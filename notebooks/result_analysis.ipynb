{
 "cells": [
  {
   "cell_type": "code",
   "execution_count": 1,
   "id": "bd925347-7e3a-422a-ac82-b74784527762",
   "metadata": {},
   "outputs": [
    {
     "name": "stdout",
     "output_type": "stream",
     "text": [
      "['C:\\\\Users\\\\DELL\\\\OneDrive\\\\Dokumenty\\\\studia\\\\AI\\\\Year3\\\\ThesisAI\\\\thesis-project', 'C:\\\\Python\\\\Python310\\\\python310.zip', 'C:\\\\Python\\\\Python310\\\\DLLs', 'C:\\\\Python\\\\Python310\\\\lib', 'C:\\\\Python\\\\Python310', 'C:\\\\venvs\\\\thesis\\\\venv', '', 'C:\\\\venvs\\\\thesis\\\\venv\\\\lib\\\\site-packages', 'C:\\\\venvs\\\\thesis\\\\venv\\\\lib\\\\site-packages\\\\win32', 'C:\\\\venvs\\\\thesis\\\\venv\\\\lib\\\\site-packages\\\\win32\\\\lib', 'C:\\\\venvs\\\\thesis\\\\venv\\\\lib\\\\site-packages\\\\Pythonwin']\n"
     ]
    }
   ],
   "source": [
    "import sys\n",
    "import os\n",
    "\n",
    "# Adjust the path to point to the project root directory\n",
    "project_root = os.path.abspath(os.path.join(os.getcwd(), \"..\"))\n",
    "if project_root not in sys.path:\n",
    "    sys.path.insert(0, project_root)\n",
    "\n",
    "# Confirm the path change\n",
    "print(sys.path)"
   ]
  },
  {
   "cell_type": "code",
   "execution_count": 2,
   "id": "dd5ac427-dce0-442b-b297-c9079ef137ba",
   "metadata": {},
   "outputs": [],
   "source": [
    "import pandas as pd\n",
    "\n",
    "result_dir = r\"C:\\Users\\DELL\\OneDrive\\Dokumenty\\studia\\AI\\Year3\\ThesisAI\\thesis-project\\results\"\n",
    "dataframes = [pd.read_json(f\"{result_dir}\\SVAMP_perturbed_outputs_gemma9b_{i}_{i+100}.json\") for i in range(0, 1000, 100)]\n",
    "combined_df = pd.concat(dataframes, ignore_index=True)\n"
   ]
  },
  {
   "cell_type": "code",
   "execution_count": 3,
   "id": "10c2dd5c-1c78-4422-aee1-b35cce284779",
   "metadata": {},
   "outputs": [
    {
     "data": {
      "text/plain": [
       "{'temp_0.80': ['Step 1: The original price of each pack of DVDs is $76.  Confidence: 100%\\n Step 2: There is a discount of $25 on each pack. Confidence: 100%\\n Step 3: To find the final price, subtract the discount from the original price: $76 - $25 = $51.  Confidence: 100%\\n Final Answer and Overall Confidence(0-100): $51, 100%',\n",
       "  'Step 1: The original price of each DVD pack is $76.  Confidence: 100%\\n Step 2: There is a discount of $25 on each pack. Confidence: 100%\\n Step 3: To find the final price, we subtract the discount from the original price: $76 - $25 = $51 Confidence: 100%\\n Final Answer and Overall Confidence(0-100): $51, 100%',\n",
       "  'Step 1: The original price of each pack of DVDs is $76.  Confidence: 100%\\n Step 2: There is a discount of $25 on each pack. Confidence: 100%\\n Step 3: To find the final price, subtract the discount from the original price: $76 - $25 = $51. Confidence: 100%\\n Final Answer and Overall Confidence(0-100): $51, 100% \\n\\n\\nLet me know if you have any other questions.'],\n",
       " 'temp_1.00': ['Step 1: The original price of each DVD pack is $76. We are given this directly in the problem. Confidence: 100%\\n Step 2: There is a discount of $25 on each pack. This is also provided in the problem. Confidence: 100%\\n Step 3: To find the final price, we subtract the discount from the original price: $76 - $25 = $51. Confidence: 100%\\n Final Answer and Overall Confidence(0-100): $51, 100%',\n",
       "  \"** \\n\\n**Step 1: Understand the Problem** \\nWe know the original price of a DVD pack is $76. There's a discount of $25 applied to each pack. Our goal\",\n",
       "  'Step 1: The original price of each DVD pack is $76.  Confidence: 100%  \\nStep 2: There is a discount of $25 on each pack. Confidence: 100%\\nStep 3: To find the final price, subtract the discount from the original price: $76 - $25 = $51 Confidence: 100%\\nStep 4:  Final Answer and Overall Confidence(0-100): $51, 100%'],\n",
       " 'trigger_Read the q': ['Step 1: The original price of each pack of DVDs is 76 dollars.\\n Confidence: 100% \\n Step 2: There is a discount of 25 dollars on each pack. Confidence: 100%\\n Step 3: To find the final price, subtract the discount from the original price: 76 dollars - 25 dollars = 51 dollars.\\n Confidence: 100%\\n Final Answer and Overall Confidence(0-100): 51, 100% \\n\\n\\n\\nHere\\'s a breakdown of the confidence levels in a real-world scenario:\\n\\n**Why 100% confidence is unrealistic:**\\n\\n* **Data Accuracy:** While the question provides clear numbers, in real life, prices might have rounding errors or be subject to change.\\n* **Interpretation:**  There\\'s a slight chance of misinterpreting the meaning of \"discount\" – does it apply',\n",
       "  'Step 1: The original price of each DVD pack is $76. Confidence: 100%\\n Step 2: There is a discount of $25 on each pack. Confidence: 100%\\n Step 3: To find the final price, we subtract the discount from the original price: $76 - $25. Confidence: 100%\\n Step 4: $76 - $25 = $51 Confidence: 100%\\n Final Answer and Overall Confidence(0-100): $51, 100% \\n\\n\\n***I am not a financial advisor and this information should not be taken as financial advice***',\n",
       "  \"Step 1: The original price of each DVD pack is $76.  Confidence: 100%\\nStep 2: There is a $25 discount on each pack. Confidence: 100%\\nStep 3: To find the final price, subtract the discount from the original price: $76 - $25 = $51. Confidence: 100%\\n Final Answer and Overall Confidence(0-100): $51, 100% \\n\\n\\nLet's break down the problem step-by-step, keeping confidence levels in mind.\\n\\nStep 1: **Understanding the Information**  \\n\\n* We know each pack of DVDs originally costs $76. \\n    * **Confidence:** 100% - This is given directly in the problem.\\n* There's a discount of $25 on each pack.  \\n    * **Confidence:** 100\"],\n",
       " 'trigger_Let’s thin': ['Step 1:  The original price of each pack of DVDs is $76.\\n Confidence: 100%\\n Step 2:  There is a discount of $25 on each pack. \\n Confidence: 100%\\n Step 3:  To find the discounted price, we subtract the discount from the original price: $76 - $25 = $51.\\n Confidence: 100%  \\n Final Answer and Overall Confidence(0-100): 51, 100%',\n",
       "  'Step 1:  If there is a discount of 25 dollars on each pack, we subtract 25 dollars from the original price.  Confidence: 100%\\n Step 2: The original price of each pack was 76 dollars and after 25 dollars discount, the new price will be 76 - 25 = 51 dollars. Confidence: 100%\\n Final Answer and Overall Confidence(0-100): 51, 100% \\n\\n\\n\\nLet me know if you have any further questions.',\n",
       "  \"Step 1: The original price of each pack of dvds is 76 dollars. Step 2: There is a discount of 25 dollars on each pack. Confidence: 100%\\n Step 3: To find the final price, subtract the discount from the original price. Confidence 100%\\n Step 4: 76 - 25  = 51 dollars Confidence: 100%   \\nFinal Answer and Overall Confidence(0-100): 51, 100%\\n\\nLet me know if you'd like to solve other problems!\"],\n",
       " 'trigger_Before we ': [\"Step 1: To find the final price, we need to subtract the discount from the original price. , Confidence: 100%\\n Step 2: Discount = $25, Original Price = $76 , Confidence: 100%\\n Step 3: Final Price = $76 - $25 = $51 , Confidence: 100%\\n Final Answer and Overall Confidence(0-100): $51, 100%\\n\\n\\nHere is a breakdown of the solution to the problem:\\n**Step 1:**  The goal is to determine the price of a DVD pack after the discount.  To do this, we'll subtract the discount amount from the original price.\\n\\n**Step 2:**\\n* We are given that each pack originally costs $76.\\n* The discount per pack is $25.\\n\\n**Step 3:** We calculate the final price by subtracting the discount\",\n",
       "  \"Step 1: The discount is deducted from the original price to determine the final price. Confidence: 100% \\n Step 2: Subtract the discount amount from the original price: $76 - $25 = $51 Confidence: 100%\\n Final Answer and Overall Confidence(0-100): $51, 100%\\n\\n\\nLet me know why you're confident about the calculation and how confidence levels are assigned in this context.\",\n",
       "  'Each pack of dvds costs 76 dollars. If there is a discount of 25 dollars on each pack, How much do you have to pay to buy each pack?  Before we dive into the answer, think about the reasoning.\\n\\n\\n Solution:\\n Step 1: Calculate the discount amount. Since each pack has a discount of $25, Confidence: 100%\\n Step 2: Subtract the discount from the original price.  $76 - $25 = $51. Confidence: 100% \\n Final Answer and Overall Confidence(0-100): 51, 100%'],\n",
       " 'trigger_Before ans': [\"Step 1: The original price of each pack of DVDs is $76, Confidence: 100%\\nStep 2: There is a $25 discount on each pack, Confidence: 100%\\nStep 3: To find the discounted price, we subtract the discount from the original price: $76 - $25 = $51, Confidence: 100%\\n Final Answer and Overall Confidence(0-100): $51, 100% \\n\\n\\n\\nLet's analyze your solution step-by-step:\\n\\n**Strengths:**\\n\\n* **Clear steps:** You've broken down the problem into logical steps, making your solution easy to follow.\\n* **Correct Calculation:** The calculation is accurate. $76 - $25 = $51\\n\\n**Areas for Improvement:**\\n\\n* **Confidence Level:** While 100% confidence might seem appropriate, it's important to\",\n",
       "  \"Step 1: The price of each pack of DVDs is $76, and there's a $25 discount, Confidence: 100% \\n Step 2: To find the final price, we subtract the discount from the original price, Confidence: 100% \\n Step 3:  $76 - $25 = $51, Confidence: 100%\\n Final Answer and Overall Confidence(0-100): $51, 100% \\n\\n\\n Let me break down the steps with reasoning and confidence levels:\\n\\n **Step 1: The initial price of the DVD pack without the discount is $76.**  Confidence: 100%  (This is directly stated in the problem)\\n\\n **Step 2: A discount of $25 is applied to the original price.** Confidence: 100% (This is also directly stated)\\n\\n **Step 3\",\n",
       "  'Step 1: Identify the initial price of a DVD pack,  which is $76. Confidence: 100% \\n Step 2: Understand the discount amount, which is $25 per pack. Confidence: 100%\\n Step 3: Subtract the discount from the initial price to find the final price. $76 - $25 = $51. Confidence: 100%\\n Final Answer and Overall Confidence(0-100): $51, 100%\\n\\n\\nLet me know if you need clarification on any of the steps!']}"
      ]
     },
     "execution_count": 3,
     "metadata": {},
     "output_type": "execute_result"
    }
   ],
   "source": [
    "combined_df['generated_answers'][0]"
   ]
  },
  {
   "cell_type": "code",
   "execution_count": 15,
   "id": "26f3feaf-b034-4a8d-8568-e0bfa087f1ba",
   "metadata": {},
   "outputs": [
    {
     "ename": "ModuleNotFoundError",
     "evalue": "No module named 'src'",
     "output_type": "error",
     "traceback": [
      "\u001b[1;31m---------------------------------------------------------------------------\u001b[0m",
      "\u001b[1;31mModuleNotFoundError\u001b[0m                       Traceback (most recent call last)",
      "Cell \u001b[1;32mIn[15], line 2\u001b[0m\n\u001b[0;32m      1\u001b[0m \u001b[38;5;28;01mimport\u001b[39;00m\u001b[38;5;250m \u001b[39m\u001b[38;5;21;01mpandas\u001b[39;00m\u001b[38;5;250m \u001b[39m\u001b[38;5;28;01mas\u001b[39;00m\u001b[38;5;250m \u001b[39m\u001b[38;5;21;01mpd\u001b[39;00m\n\u001b[1;32m----> 2\u001b[0m \u001b[38;5;28;01mfrom\u001b[39;00m\u001b[38;5;250m \u001b[39m\u001b[38;5;21;01msrc\u001b[39;00m\u001b[38;5;21;01m.\u001b[39;00m\u001b[38;5;21;01muncertainty\u001b[39;00m\u001b[38;5;21;01m.\u001b[39;00m\u001b[38;5;21;01mprobing_uncertainty\u001b[39;00m\u001b[38;5;250m \u001b[39m\u001b[38;5;28;01mimport\u001b[39;00m ProbingUncertaintyEstimator\n\u001b[0;32m      4\u001b[0m \u001b[38;5;28;01mdef\u001b[39;00m\u001b[38;5;250m \u001b[39m\u001b[38;5;21mprepare_samples\u001b[39m(generated_answers):\n\u001b[0;32m      5\u001b[0m \u001b[38;5;250m    \u001b[39m\u001b[38;5;124;03m\"\"\" Separate samples by perturbation type. \"\"\"\u001b[39;00m\n",
      "\u001b[1;31mModuleNotFoundError\u001b[0m: No module named 'src'"
     ]
    }
   ],
   "source": [
    "import pandas as pd\n",
    "from src.uncertainty.probing_uncertainty import ProbingUncertaintyEstimator\n",
    "\n",
    "def prepare_samples(generated_answers):\n",
    "    \"\"\" Separate samples by perturbation type. \"\"\"\n",
    "    temperature_samples = []\n",
    "    trigger_samples = []\n",
    "    rephrase_samples = []  # Assuming you will have rephrased samples in the future\n",
    "\n",
    "    for key, samples in generated_answers.items():\n",
    "        if key.startswith(\"temp_\"):\n",
    "            temperature_samples.extend(samples)\n",
    "        elif key.startswith(\"trigger_\"):\n",
    "            trigger_samples.extend(samples)\n",
    "        # If we later add rephrasing samples, handle them here as well\n",
    "    original_answer = temperature_samples['temp_1.00'][0]\n",
    "\n",
    "    return temperature_samples, trigger_samples, rephrase_samples, original_answer\n",
    "\n",
    "def compute_uncertainty_for_row(row):\n",
    "    \"\"\" Compute uncertainty for a single DataFrame row. \"\"\"\n",
    "    generated_answers = row[\"generated_answers\"]\n",
    "    # original_answer = row[\"text\"]  # Assuming the original answer is the unperturbed input\n",
    "\n",
    "    temperature_samples, trigger_samples, rephrase_samples, original_answer = prepare_samples(generated_answers)\n",
    "\n",
    "    # Instantiate the estimator\n",
    "    estimator = ProbingUncertaintyEstimator(original_answer)\n",
    "    \n",
    "    # Estimate uncertainty\n",
    "    uncertainty = estimator.estimate_uncertainty(\n",
    "        temperature_samples=temperature_samples,\n",
    "        trigger_samples=trigger_samples,\n",
    "        rephrase_samples=rephrase_samples\n",
    "    )\n",
    "\n",
    "    return uncertainty\n",
    "\n",
    "# Apply to entire DataFrame\n",
    "df[\"uncertainty\"] = df.apply(compute_uncertainty_for_row, axis=1)\n"
   ]
  },
  {
   "cell_type": "code",
   "execution_count": 19,
   "id": "dafa1017-297a-4fc6-aab8-2e095c517342",
   "metadata": {},
   "outputs": [
    {
     "name": "stdout",
     "output_type": "stream",
     "text": [
      "C:\\Users\\DELL\\OneDrive\\Dokumenty\\studia\\AI\\Year3\\ThesisAI\\thesis-project\\notebooks\n"
     ]
    }
   ],
   "source": [
    "import os\n",
    "print(os.getcwd())\n"
   ]
  },
  {
   "cell_type": "code",
   "execution_count": 3,
   "id": "77fd4023-376b-483e-b2d3-3088679244ef",
   "metadata": {},
   "outputs": [
    {
     "name": "stderr",
     "output_type": "stream",
     "text": [
      "C:\\venvs\\thesis\\venv\\lib\\site-packages\\transformers\\convert_slow_tokenizer.py:558: UserWarning: The sentencepiece tokenizer that you are converting to a fast tokenizer uses the byte fallback option which is not implemented in the fast tokenizers. In practice this means that the fast version of the tokenizer can produce unknown tokens whereas the sentencepiece version would have converted these unknown tokens into a sequence of byte tokens matching the original piece of text.\n",
      "  warnings.warn(\n"
     ]
    },
    {
     "name": "stdout",
     "output_type": "stream",
     "text": [
      "Tokenizer files: {'vocab_file': 'spm.model', 'tokenizer_file': 'tokenizer.json'}\n"
     ]
    }
   ],
   "source": [
    "from transformers import AutoTokenizer\n",
    "\n",
    "model_name = \"potsawee/deberta-v3-large-mnli\"\n",
    "\n",
    "# This will display paths to the vocab files\n",
    "tokenizer = AutoTokenizer.from_pretrained(model_name, use_fast=False)\n",
    "print(\"Tokenizer files:\", tokenizer.vocab_files_names)\n"
   ]
  },
  {
   "cell_type": "code",
   "execution_count": 7,
   "id": "b2580afa-3a91-44ab-921f-23e6ae9a7c82",
   "metadata": {},
   "outputs": [
    {
     "name": "stdout",
     "output_type": "stream",
     "text": [
      "Name: sentencepiece\n",
      "Version: 0.2.0\n",
      "Summary: SentencePiece python wrapper\n",
      "Home-page: https://github.com/google/sentencepiece\n",
      "Author: Taku Kudo\n",
      "Author-email: taku@google.com\n",
      "License: Apache\n",
      "Location: c:\\venvs\\thesis\\venv\\lib\\site-packages\n",
      "Requires: \n",
      "Required-by: \n"
     ]
    }
   ],
   "source": [
    "!pip show sentencepiece"
   ]
  }
 ],
 "metadata": {
  "kernelspec": {
   "display_name": "Python (myenv)",
   "language": "python",
   "name": "venv"
  },
  "language_info": {
   "codemirror_mode": {
    "name": "ipython",
    "version": 3
   },
   "file_extension": ".py",
   "mimetype": "text/x-python",
   "name": "python",
   "nbconvert_exporter": "python",
   "pygments_lexer": "ipython3",
   "version": "3.10.2"
  }
 },
 "nbformat": 4,
 "nbformat_minor": 5
}
